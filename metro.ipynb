{
 "cells": [
  {
   "cell_type": "code",
   "execution_count": 1,
   "metadata": {},
   "outputs": [],
   "source": [
    "import pandas as pd\n",
    "import geopandas as gpd\n",
    "from shapely.geometry import Point\n",
    "from tqdm import tqdm"
   ]
  },
  {
   "cell_type": "code",
   "execution_count": 7,
   "metadata": {},
   "outputs": [
    {
     "name": "stderr",
     "output_type": "stream",
     "text": [
      "100%|██████████| 11/11 [00:04<00:00,  2.21it/s]\n"
     ]
    }
   ],
   "source": [
    "data = gpd.read_file('OSM/armenia-latest-free.shp/gis_osm_transport_free_1.shp')\n",
    "for file in tqdm(['belarus', 'kazakhstan', 'central-fed-district',\n",
    "             'crimean-fed-district', 'far-eastern-fed-district', 'north-caucasus-fed-district',\n",
    "             'northwestern-fed-district', 'siberian-fed-district', 'south-fed-district',\n",
    "             'ural-fed-district', 'volga-fed-district']):\n",
    "\n",
    "    data1 = gpd.read_file('OSM/%s-latest-free.shp/gis_osm_transport_free_1.shp' %file)\n",
    "    data = pd.concat([data, data1], ignore_index=True)\n",
    "    \n",
    "    \n",
    "    \n",
    "data = gpd.GeoDataFrame(data, geometry='geometry')"
   ]
  },
  {
   "cell_type": "code",
   "execution_count": 99,
   "metadata": {},
   "outputs": [],
   "source": [
    "new_data.to_file('railway_stations.gpkg', driver='GPKG')"
   ]
  },
  {
   "cell_type": "code",
   "execution_count": 8,
   "metadata": {},
   "outputs": [],
   "source": [
    "new_data = data[data['fclass']=='railway_station']"
   ]
  },
  {
   "cell_type": "code",
   "execution_count": 11,
   "metadata": {},
   "outputs": [],
   "source": [
    "polygon_file = \"isochrones.gpkg\"\n",
    "polygons = gpd.read_file(polygon_file)"
   ]
  },
  {
   "cell_type": "code",
   "execution_count": 12,
   "metadata": {},
   "outputs": [],
   "source": [
    "izo30 = polygons[polygons['iso_time'] == 30]\n",
    "izo15 = polygons[polygons['iso_time'] == 15]\n",
    "izo10 = polygons[polygons['iso_time'] == 10]\n",
    "izo5 = polygons[polygons['iso_time'] == 5]\n",
    "izo3 = polygons[polygons['iso_time'] == 3]"
   ]
  },
  {
   "cell_type": "code",
   "execution_count": 113,
   "metadata": {},
   "outputs": [],
   "source": [
    "train = pd.read_csv('train.csv')\n",
    "train['type'] = 'train'\n",
    "test = pd.read_csv('test.csv')\n",
    "test['type'] = 'test'\n",
    "shops = pd.concat([train, test], ignore_index=True)\n"
   ]
  },
  {
   "cell_type": "code",
   "execution_count": 114,
   "metadata": {},
   "outputs": [
    {
     "name": "stderr",
     "output_type": "stream",
     "text": [
      "/opt/anaconda3/lib/python3.8/site-packages/IPython/core/interactiveshell.py:3263: FutureWarning: The `op` parameter is deprecated and will be removed in a future release. Please use the `predicate` parameter instead.\n",
      "  if (await self.run_code(code, result,  async_=asy)):\n",
      "/opt/anaconda3/lib/python3.8/site-packages/IPython/core/interactiveshell.py:3263: FutureWarning: The `op` parameter is deprecated and will be removed in a future release. Please use the `predicate` parameter instead.\n",
      "  if (await self.run_code(code, result,  async_=asy)):\n",
      "/opt/anaconda3/lib/python3.8/site-packages/IPython/core/interactiveshell.py:3263: FutureWarning: The `op` parameter is deprecated and will be removed in a future release. Please use the `predicate` parameter instead.\n",
      "  if (await self.run_code(code, result,  async_=asy)):\n",
      "/opt/anaconda3/lib/python3.8/site-packages/IPython/core/interactiveshell.py:3263: FutureWarning: The `op` parameter is deprecated and will be removed in a future release. Please use the `predicate` parameter instead.\n",
      "  if (await self.run_code(code, result,  async_=asy)):\n",
      "/opt/anaconda3/lib/python3.8/site-packages/IPython/core/interactiveshell.py:3263: FutureWarning: The `op` parameter is deprecated and will be removed in a future release. Please use the `predicate` parameter instead.\n",
      "  if (await self.run_code(code, result,  async_=asy)):\n"
     ]
    }
   ],
   "source": [
    "for num, izo in zip([3, 5, 10, 15, 30], [izo3, izo5, izo10, izo15, izo30]):\n",
    "    points_in_polygons = gpd.sjoin(new_data, izo, how=\"inner\", op=\"within\")\n",
    "    points_count_per_polygon = points_in_polygons.groupby(by='id').size()\n",
    "    points_count_per_polygon.name = 'count_railway_station_iso_' + str(num)\n",
    "    shops = shops.merge(points_count_per_polygon, how='left', on='id')"
   ]
  },
  {
   "cell_type": "code",
   "execution_count": 123,
   "metadata": {},
   "outputs": [],
   "source": [
    "shops.count_railway_station_iso_3.fillna(0, inplace = True)\n",
    "shops.count_railway_station_iso_5.fillna(0, inplace = True)\n",
    "shops.count_railway_station_iso_10.fillna(0, inplace = True)\n",
    "shops.count_railway_station_iso_15.fillna(0, inplace = True)\n",
    "shops.count_railway_station_iso_30.fillna(0, inplace = True)"
   ]
  },
  {
   "cell_type": "code",
   "execution_count": 125,
   "metadata": {},
   "outputs": [],
   "source": [
    "new_train = shops[shops['type'] == 'train']\n",
    "new_test = shops[shops['type'] == 'test']\n",
    "\n",
    "new_train.to_csv('train_metro_count_per_pvz.csv', index = False)\n",
    "new_test.to_csv('test_metro_count_per_pvz.csv', index = False)"
   ]
  },
  {
   "cell_type": "code",
   "execution_count": null,
   "metadata": {},
   "outputs": [],
   "source": []
  }
 ],
 "metadata": {
  "kernelspec": {
   "display_name": "Python 3",
   "language": "python",
   "name": "python3"
  },
  "language_info": {
   "codemirror_mode": {
    "name": "ipython",
    "version": 3
   },
   "file_extension": ".py",
   "mimetype": "text/x-python",
   "name": "python",
   "nbconvert_exporter": "python",
   "pygments_lexer": "ipython3",
   "version": "3.8.3"
  }
 },
 "nbformat": 4,
 "nbformat_minor": 4
}
